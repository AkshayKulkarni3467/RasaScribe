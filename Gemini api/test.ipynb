{
 "cells": [
  {
   "cell_type": "code",
   "execution_count": 1,
   "metadata": {},
   "outputs": [
    {
     "name": "stderr",
     "output_type": "stream",
     "text": [
      "c:\\Users\\aksha\\anaconda2\\envs\\curiousrl\\lib\\site-packages\\tqdm\\auto.py:21: TqdmWarning: IProgress not found. Please update jupyter and ipywidgets. See https://ipywidgets.readthedocs.io/en/stable/user_install.html\n",
      "  from .autonotebook import tqdm as notebook_tqdm\n"
     ]
    }
   ],
   "source": [
    "import os\n",
    "import google.generativeai as genai\n",
    "import json\n",
    "\n",
    "\n",
    "api_key = os.getenv(\"GOOGLE_API_KEY\")"
   ]
  },
  {
   "cell_type": "code",
   "execution_count": 2,
   "metadata": {},
   "outputs": [],
   "source": [
    "genai.configure(api_key=api_key)"
   ]
  },
  {
   "cell_type": "code",
   "execution_count": 3,
   "metadata": {},
   "outputs": [],
   "source": [
    "model = genai.GenerativeModel(\n",
    "    'gemini-1.5-pro',\n",
    "    generation_config={\"response_mime_type\": \"application/json\"},\n",
    "    )\n"
   ]
  },
  {
   "cell_type": "code",
   "execution_count": 172,
   "metadata": {},
   "outputs": [],
   "source": [
    "platform = \"LinkedIn\"\n",
    "topic = \"a post explaining making of a rasa chatbot which generates scripts, captions and hashtags for you\"\n",
    "prompt =f'''\n",
    "  You are a freelance script writer for social media.You generate scripts, captions and hashtags. \n",
    "  You are currently making a post on {topic} \n",
    "  which is going to be posted on {platform}\n",
    "  Remember to start every post with a question!\n",
    "  Use numbers as points, not *, keep only one space distance between a point and next letter.\n",
    "  Dont use ** to bold the texts, since not every platform converts them to bold\n",
    "  You should not include any visual, voiceover or variable elements in the script, captions and hashtags! You are a script writer and you should output the entire post completed!\n",
    "  For every section:\n",
    "  If the platform is linkedin, twitter, etc, make the content formal and use formal emojis.\n",
    "  For linkedin posts, generate a post with some jargons and technicalities based on the topic.\n",
    "  For twitter posts, make sure that the post length is less than 60 words.\n",
    "  Else, if the platform is instagram, tiktok or yt shorts, keep the scripts informal and try to develop engaging content and use more emojis than formal content.\n",
    "  For instagram, tiktok and shorts, generate a catchy response.\n",
    "  For youtube, generate a proper description of the topic.\n",
    "  For script:\n",
    "  Divide the script into points!\n",
    "  Make the script size depending on the platform.\n",
    "  For caption:\n",
    "  Dont generate hashtags in captions!\n",
    "  For hashtags:\n",
    "  Generate atleast 10 hashtags related to the topic\n",
    "  Using this JSON schema:\n",
    "  Content = {{\"script\": str, \"caption\": str, \"hashtags\": str}}\n",
    "  Return a Content object'''\n",
    "\n",
    "response = model.generate_content(prompt)"
   ]
  },
  {
   "cell_type": "code",
   "execution_count": 173,
   "metadata": {},
   "outputs": [
    {
     "name": "stdout",
     "output_type": "stream",
     "text": [
      "{\"script\": \"1. Ever wished for a magic wand to handle your social media? ✨\\n2.  Well, I built a chatbot with Rasa that practically does just that! 🤖\\n3. It generates scripts, crafts catchy captions, and even suggests relevant hashtags - talk about a time-saver! ⏰\\n4.  From brainstorming content ideas to fine-tuning those tweets, this AI-powered assistant is a game-changer for my workflow. 🚀\\n5.  Stay tuned for more insights on how I built it and the NLP techniques behind it!  #AI #Chatbots #SocialMediaManagement #Productivity\", \"caption\": \"Super excited to share my latest project - an AI-powered social media assistant built with Rasa! It's been a game-changer for my content creation process. More details coming soon! 😉\", \"hashtags\": \"#rasachatbot #chatbotautomation #aiwritingassistant #socialmediamarketing #contentcreation #nlp #artificialintelligence #techinnovation #futureofwork #linkedinmarketing\"}\n",
      "\n"
     ]
    }
   ],
   "source": [
    "print(response.text)"
   ]
  },
  {
   "cell_type": "code",
   "execution_count": 174,
   "metadata": {},
   "outputs": [],
   "source": [
    "output = json.loads(response.text)"
   ]
  },
  {
   "cell_type": "code",
   "execution_count": 177,
   "metadata": {},
   "outputs": [
    {
     "name": "stdout",
     "output_type": "stream",
     "text": [
      "#rasachatbot #chatbotautomation #aiwritingassistant #socialmediamarketing #contentcreation #nlp #artificialintelligence #techinnovation #futureofwork #linkedinmarketing\n"
     ]
    }
   ],
   "source": [
    "print(output['hashtags'])\n"
   ]
  }
 ],
 "metadata": {
  "kernelspec": {
   "display_name": "chatbotrs",
   "language": "python",
   "name": "python3"
  },
  "language_info": {
   "codemirror_mode": {
    "name": "ipython",
    "version": 3
   },
   "file_extension": ".py",
   "mimetype": "text/x-python",
   "name": "python",
   "nbconvert_exporter": "python",
   "pygments_lexer": "ipython3",
   "version": "3.10.14"
  },
  "orig_nbformat": 4
 },
 "nbformat": 4,
 "nbformat_minor": 2
}
