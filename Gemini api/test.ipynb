{
 "cells": [
  {
   "cell_type": "code",
   "execution_count": 1,
   "metadata": {},
   "outputs": [
    {
     "name": "stderr",
     "output_type": "stream",
     "text": [
      "c:\\Users\\aksha\\anaconda2\\envs\\nlp\\Lib\\site-packages\\tqdm\\auto.py:21: TqdmWarning: IProgress not found. Please update jupyter and ipywidgets. See https://ipywidgets.readthedocs.io/en/stable/user_install.html\n",
      "  from .autonotebook import tqdm as notebook_tqdm\n"
     ]
    }
   ],
   "source": [
    "import os\n",
    "import google.generativeai as genai\n",
    "import json\n",
    "\n",
    "\n",
    "api_key = os.getenv(\"GOOGLE_API_KEY\")"
   ]
  },
  {
   "cell_type": "code",
   "execution_count": 2,
   "metadata": {},
   "outputs": [],
   "source": [
    "genai.configure(api_key=api_key)"
   ]
  },
  {
   "cell_type": "code",
   "execution_count": 6,
   "metadata": {},
   "outputs": [],
   "source": [
    "model = genai.GenerativeModel(\n",
    "    'gemini-1.5-flash',\n",
    "    generation_config={\"response_mime_type\": \"application/json\"},\n",
    "    )\n"
   ]
  },
  {
   "cell_type": "code",
   "execution_count": 7,
   "metadata": {},
   "outputs": [],
   "source": [
    "platform = \"LinkedIn\"\n",
    "topic = \"a post explaining making of a rasa chatbot which generates scripts, captions and hashtags for you\"\n",
    "prompt =f'''\n",
    "  You measure any give time in hours, minutes and seconds.\n",
    "  Return this {time} in the following json schema\n",
    "  Content = {{\"hours\": str, \"minutes\": str, \"seconds\":str}}\n",
    "  Return a Content object'''\n",
    "\n",
    "response = model.generate_content(prompt)"
   ]
  },
  {
   "cell_type": "code",
   "execution_count": 8,
   "metadata": {},
   "outputs": [
    {
     "name": "stdout",
     "output_type": "stream",
     "text": [
      "{\"script\": \"Hey fellow creatives! 👩‍💻 Ever wish you had a writing assistant that could help you craft engaging scripts, captions, and hashtags for your social media posts? Well, I've got good news! 🎉 I recently built a Rasa chatbot that does just that! 🤔 Here's how it works:\\n\\n1.  I trained the chatbot on a dataset of scripts, captions, and hashtags across different platforms.\\n2.  The chatbot uses natural language processing (NLP) to understand your requests and generate creative content tailored to your specific needs.\\n3.  You can ask it to write a script for a new TikTok video, a catchy caption for an Instagram post, or a set of relevant hashtags for your LinkedIn article.\\n\\nThis chatbot has been a game-changer for me, allowing me to streamline my content creation process and save valuable time.  🧠 If you're looking for a way to enhance your social media game, I highly recommend exploring the power of chatbots! 🚀\\n\\n#AI #Chatbot #NLP #ContentCreation #SocialMedia #Marketing #Productivity #Freelance #Writer #Rasa\", \"caption\": \"This AI chatbot is a game-changer for my social media! 🚀 It generates scripts, captions, and hashtags for me - talk about a time-saver! ⏰  Would you use a chatbot for social media content creation? 🤔\", \"hashtags\": \"#AI #Chatbot #ContentCreation #SocialMediaMarketing #SocialMedia #Rasa #NLP #Productivity #FreelanceLife #TimeSaver\"}\n",
      "\n"
     ]
    }
   ],
   "source": [
    "print(response.text)"
   ]
  },
  {
   "cell_type": "code",
   "execution_count": 174,
   "metadata": {},
   "outputs": [],
   "source": [
    "output = json.loads(response.text)"
   ]
  },
  {
   "cell_type": "code",
   "execution_count": 177,
   "metadata": {},
   "outputs": [
    {
     "name": "stdout",
     "output_type": "stream",
     "text": [
      "#rasachatbot #chatbotautomation #aiwritingassistant #socialmediamarketing #contentcreation #nlp #artificialintelligence #techinnovation #futureofwork #linkedinmarketing\n"
     ]
    }
   ],
   "source": [
    "print(output['hashtags'])\n"
   ]
  }
 ],
 "metadata": {
  "kernelspec": {
   "display_name": "chatbotrs",
   "language": "python",
   "name": "python3"
  },
  "language_info": {
   "codemirror_mode": {
    "name": "ipython",
    "version": 3
   },
   "file_extension": ".py",
   "mimetype": "text/x-python",
   "name": "python",
   "nbconvert_exporter": "python",
   "pygments_lexer": "ipython3",
   "version": "3.11.9"
  },
  "orig_nbformat": 4
 },
 "nbformat": 4,
 "nbformat_minor": 2
}
